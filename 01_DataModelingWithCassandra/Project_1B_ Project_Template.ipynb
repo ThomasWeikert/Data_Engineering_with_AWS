{
 "cells": [
  {
   "cell_type": "markdown",
   "metadata": {},
   "source": [
    "# Part I. ETL Pipeline for Pre-Processing the Files"
   ]
  },
  {
   "cell_type": "markdown",
   "metadata": {},
   "source": [
    "## PLEASE RUN THE FOLLOWING CODE FOR PRE-PROCESSING THE FILES"
   ]
  },
  {
   "cell_type": "markdown",
   "metadata": {},
   "source": [
    "#### Import Python packages "
   ]
  },
  {
   "cell_type": "code",
   "execution_count": 2,
   "metadata": {},
   "outputs": [],
   "source": [
    "# Import Python packages \n",
    "import pandas as pd\n",
    "import cassandra\n",
    "import re\n",
    "import os\n",
    "import glob\n",
    "import numpy as np\n",
    "import json\n",
    "import csv"
   ]
  },
  {
   "cell_type": "markdown",
   "metadata": {},
   "source": [
    "#### Creating list of filepaths to process original event csv data files"
   ]
  },
  {
   "cell_type": "code",
   "execution_count": 3,
   "metadata": {},
   "outputs": [
    {
     "name": "stdout",
     "output_type": "stream",
     "text": [
      "/home/workspace\n"
     ]
    }
   ],
   "source": [
    "print(os.getcwd())\n",
    "filepath = os.getcwd() + '/event_data'\n",
    "for root, dirs, files in os.walk(filepath):\n",
    "    file_path_list = glob.glob(os.path.join(root,'*'))"
   ]
  },
  {
   "cell_type": "markdown",
   "metadata": {},
   "source": [
    "#### Processing the files to create the data file csv that will be used for Apache Casssandra tables"
   ]
  },
  {
   "cell_type": "code",
   "execution_count": 4,
   "metadata": {},
   "outputs": [
    {
     "name": "stdout",
     "output_type": "stream",
     "text": [
      "8056\n"
     ]
    }
   ],
   "source": [
    "full_data_rows_list = [] \n",
    "\n",
    "for f in file_path_list:\n",
    "    with open(f, 'r', encoding = 'utf8', newline='') as csvfile: \n",
    "        csvreader = csv.reader(csvfile) \n",
    "        next(csvreader)\n",
    "        for line in csvreader:\n",
    "            #print(line)\n",
    "            full_data_rows_list.append(line) \n",
    "            \n",
    "print(len(full_data_rows_list))\n",
    "csv.register_dialect('myDialect', quoting=csv.QUOTE_ALL, skipinitialspace=True)\n",
    "\n",
    "with open('event_datafile_new.csv', 'w', encoding = 'utf8', newline='') as f:\n",
    "    writer = csv.writer(f, dialect='myDialect')\n",
    "    writer.writerow(['artist','firstName','gender','itemInSession','lastName','length',\\\n",
    "                'level','location','sessionId','song','userId'])\n",
    "    for row in full_data_rows_list:\n",
    "        if (row[0] == ''):\n",
    "            continue\n",
    "        writer.writerow((row[0], row[2], row[3], row[4], row[5], row[6], row[7], row[8], row[12], row[13], row[16]))"
   ]
  },
  {
   "cell_type": "code",
   "execution_count": 5,
   "metadata": {},
   "outputs": [
    {
     "name": "stdout",
     "output_type": "stream",
     "text": [
      "6821\n"
     ]
    }
   ],
   "source": [
    "with open('event_datafile_new.csv', 'r', encoding = 'utf8') as f:\n",
    "    print(sum(1 for line in f))"
   ]
  },
  {
   "cell_type": "markdown",
   "metadata": {},
   "source": [
    "# Part II. Complete the Apache Cassandra coding portion of your project. \n",
    "\n",
    "## Now you are ready to work with the CSV file titled <font color=red>event_datafile_new.csv</font>, located within the Workspace directory.  The event_datafile_new.csv contains the following columns: \n",
    "- artist \n",
    "- firstName of user\n",
    "- gender of user\n",
    "- item number in session\n",
    "- last name of user\n",
    "- length of the song\n",
    "- level (paid or free song)\n",
    "- location of the user\n",
    "- sessionId\n",
    "- song title\n",
    "- userId\n",
    "\n",
    "The image below is a screenshot of what the denormalized data should appear like in the <font color=red>**event_datafile_new.csv**</font> after the code above is run:<br>\n",
    "\n",
    "<img src=\"images/image_event_datafile_new.jpg\">"
   ]
  },
  {
   "cell_type": "markdown",
   "metadata": {},
   "source": [
    "## Begin writing your Apache Cassandra code in the cells below"
   ]
  },
  {
   "cell_type": "markdown",
   "metadata": {},
   "source": [
    "#### Creating a Cluster"
   ]
  },
  {
   "cell_type": "code",
   "execution_count": 6,
   "metadata": {},
   "outputs": [],
   "source": [
    "from cassandra.cluster import Cluster\n",
    "cluster = Cluster()\n",
    "\n",
    "try: \n",
    "    cluster = Cluster(['127.0.0.1'])\n",
    "    session = cluster.connect()\n",
    "except Exception as e:\n",
    "    print(e)"
   ]
  },
  {
   "cell_type": "markdown",
   "metadata": {},
   "source": [
    "#### Create Keyspace"
   ]
  },
  {
   "cell_type": "code",
   "execution_count": 7,
   "metadata": {},
   "outputs": [],
   "source": [
    "try:\n",
    "    session.execute(\"\"\"\n",
    "    CREATE KEYSPACE IF NOT EXISTS udacity \n",
    "    WITH REPLICATION = \n",
    "    { 'class' : 'SimpleStrategy', 'replication_factor' : 1 }\"\"\"\n",
    ")\n",
    "\n",
    "except Exception as e:\n",
    "    print(e)"
   ]
  },
  {
   "cell_type": "markdown",
   "metadata": {},
   "source": [
    "#### Set Keyspace"
   ]
  },
  {
   "cell_type": "code",
   "execution_count": 8,
   "metadata": {},
   "outputs": [],
   "source": [
    "try:\n",
    "    session.set_keyspace('udacity')\n",
    "except Exception as e:\n",
    "    print(e)"
   ]
  },
  {
   "cell_type": "markdown",
   "metadata": {},
   "source": [
    "### Now we need to create tables to run the following queries. Remember, with Apache Cassandra you model the database tables on the queries you want to run."
   ]
  },
  {
   "cell_type": "markdown",
   "metadata": {},
   "source": [
    "## Create queries to ask the following three questions of the data\n",
    "\n",
    "### 1. Give me the artist, song title and song's length in the music app history that was heard during  sessionId = 338, and itemInSession  = 4\n",
    "\n",
    "\n",
    "### 2. Give me only the following: name of artist, song (sorted by itemInSession) and user (first and last name) for userid = 10, sessionid = 182\n",
    "    \n",
    "\n",
    "### 3. Give me every user name (first and last) in my music app history who listened to the song 'All Hands Against His Own'\n",
    "\n",
    "\n"
   ]
  },
  {
   "cell_type": "markdown",
   "metadata": {},
   "source": [
    "### colums:\n",
    "0 artist  <br>\n",
    "1 firstName of user  <br>\n",
    "2 gender of user <br>\n",
    "3 item number in session  <br>\n",
    "4 last name of user  <br>\n",
    "5 length of the song  <br>\n",
    "6 level (paid or free song)  <br>\n",
    "7 location of the user  <br>\n",
    "8 sessionId  <br>\n",
    "9 song title  <br>\n",
    "10 userId"
   ]
  },
  {
   "cell_type": "code",
   "execution_count": 9,
   "metadata": {},
   "outputs": [],
   "source": [
    "quer1 = \"select artist, song_title, song_length from music_library WHERE sessionId = 338 and item_nb_session = 4\"\n",
    "\n",
    "query2 = \"select artist, song_title, last_name_of_user from music_library WHERE sessionId = 182 and userId = 10\"\n",
    "\n",
    "query3 = \"select firstName_of_user, last_name_of_user  WHERE song = 'All Hands Against His Own'\"                    "
   ]
  },
  {
   "cell_type": "markdown",
   "metadata": {},
   "source": [
    "# First query"
   ]
  },
  {
   "cell_type": "code",
   "execution_count": 10,
   "metadata": {},
   "outputs": [],
   "source": [
    "query = \"CREATE TABLE IF NOT EXISTS song_info_by_session\"\n",
    "query = query + \"(sessionID int,\\\n",
    "                  item_nb_session int,\\\n",
    "                  artist text,\\\n",
    "                  song text,\\\n",
    "                  length float,\\\n",
    "                  PRIMARY KEY (sessionID, item_nb_session))\"\n",
    "try:\n",
    "    session.execute(query)\n",
    "except Exception as e:\n",
    "    print(e)"
   ]
  },
  {
   "cell_type": "code",
   "execution_count": 11,
   "metadata": {
    "scrolled": false
   },
   "outputs": [],
   "source": [
    "file = 'event_datafile_new.csv'\n",
    "\n",
    "with open(file, encoding = 'utf8') as f:\n",
    "    csvreader = csv.reader(f)\n",
    "    next(csvreader)\n",
    "    for line in csvreader:\n",
    "        query = \"insert into song_info_by_session \\\n",
    "                   (sessionID,\\\n",
    "                   item_nb_session,\\\n",
    "                   artist,\\\n",
    "                   song,\\\n",
    "                   length\\\n",
    "                   )\"\n",
    "        query = query + \" Values (%s, %s, %s, %s, %s)\"\n",
    "        try:\n",
    "            session.execute(query, (int(line[8]), int(line[3]), line[0], line[9], float(line[5])))\n",
    "        except Exception as e:\n",
    "            print(e)"
   ]
  },
  {
   "cell_type": "markdown",
   "metadata": {},
   "source": [
    "\n",
    "**Task**:<br>\n",
    "Query the artist, song title and song's length in the music app history that was heard during sessionId = 338, and itemInSession = 4<br>\n",
    "\n",
    "**Description**: <br>\n",
    "The following table shows the artist, song title and length of the session id 338 and item in session 4.<br>\n",
    "\n",
    "**Which columns will be primary keys and why?**<br>\n",
    "item nb session and session id is a compound primary key, as defined during creation process. Both together form a unique key. \n",
    "\n",
    "**What clustering keys am I using and why?**<br>\n",
    "Essentially, the clustering columns determine the on-disk sort order within each partition. In this cases, the first column is the partition key (item nb) and the second column is the clustering column (session id). This combination of the partition key and clustering column composes a composite/compound primary key. <br>\n",
    "\n",
    "**Why did I choose this specific table structure?**<br>\n",
    "Basically, the creation of this table with the partionining of our data with its primary key is designed to serve the query.\n",
    "\n",
    "**How is this structure benefitting the query output?**<br>\n",
    "The structure of the primary key allows to filter the table given any session id and item nb and outputs every music app history. \n"
   ]
  },
  {
   "cell_type": "code",
   "execution_count": 12,
   "metadata": {
    "scrolled": true
   },
   "outputs": [
    {
     "name": "stdout",
     "output_type": "stream",
     "text": [
      "Faithless Music Matters (Mark Knight Dub) 495.30731201171875\n"
     ]
    }
   ],
   "source": [
    "query = \"select artist, song, length from song_info_by_session where sessionId = 338 and item_nb_session = 4 \"\n",
    "try:\n",
    "    rows = session.execute(query)\n",
    "except Exception as e:\n",
    "    print(e)\n",
    "    \n",
    "for row in rows:\n",
    "    print (row.artist, row.song, row.length)"
   ]
  },
  {
   "cell_type": "code",
   "execution_count": 13,
   "metadata": {},
   "outputs": [
    {
     "name": "stdout",
     "output_type": "stream",
     "text": [
      "+-----------+---------------------------------+--------------------+\n",
      "|   Artist  |               Song              |       Length       |\n",
      "+-----------+---------------------------------+--------------------+\n",
      "| Faithless | Music Matters (Mark Knight Dub) | 495.30731201171875 |\n",
      "+-----------+---------------------------------+--------------------+\n"
     ]
    }
   ],
   "source": [
    "from prettytable import PrettyTable\n",
    "x = PrettyTable()\n",
    "\n",
    "x.field_names = [\"Artist\", \"Song\", \"Length\"]\n",
    "x.add_row([\"Faithless\", \"Music Matters (Mark Knight Dub)\", 495.30731201171875])\n",
    "\n",
    "\n",
    "print(x)"
   ]
  },
  {
   "cell_type": "markdown",
   "metadata": {},
   "source": [
    "# Second query"
   ]
  },
  {
   "cell_type": "code",
   "execution_count": 14,
   "metadata": {},
   "outputs": [],
   "source": [
    "query = \"CREATE TABLE IF NOT EXISTS artist_info_by_session_and_user\"\n",
    "query = query + \"(userID int,\\\n",
    "                  sessionID int,\\\n",
    "                  itemInSession int,\\\n",
    "                  artist text,\\\n",
    "                  song text,\\\n",
    "                  user_firstName text,\\\n",
    "                  user_lastName text,\\\n",
    "                  PRIMARY KEY ((userID, sessionID), itemInSession))\"\n",
    "try:\n",
    "    session.execute(query)\n",
    "except Exception as e:\n",
    "    print(e)"
   ]
  },
  {
   "cell_type": "code",
   "execution_count": 15,
   "metadata": {},
   "outputs": [],
   "source": [
    "file = 'event_datafile_new.csv'\n",
    "\n",
    "with open(file, encoding = 'utf8') as f:\n",
    "    csvreader = csv.reader(f)\n",
    "    next(csvreader)\n",
    "    for line in csvreader:\n",
    "        query = \"insert into artist_info_by_session_and_user \\\n",
    "                  (userID,\\\n",
    "                   sessionID,\\\n",
    "                   itemInSession,\\\n",
    "                   artist,\\\n",
    "                   song,\\\n",
    "                   user_firstName,\\\n",
    "                   user_lastName\\\n",
    "                  )\"\n",
    "\n",
    "        query = query + \" Values (%s, %s, %s, %s, %s, %s, %s)\"\n",
    "        try:\n",
    "            session.execute(query, (int(line[10]), int(line[8]), int(line[3]), line[0], line[9], line[1], line[4]))\n",
    "        except Exception as e:\n",
    "            print(e)         "
   ]
  },
  {
   "cell_type": "markdown",
   "metadata": {},
   "source": [
    "**Task**:<br>\n",
    "Query name of artist, song (sorted by itemInSession) and user (first and last name) for userid = 10, sessionid = 182<br>\n",
    "\n",
    "**Description**: <br>\n",
    "The following table shows three columns: artist, song name and the user's first and last name. It is filtered by session id 182 und user id 10<br>\n",
    "\n",
    "**Which columns will be primary keys and why?**<br>\n",
    "Session id and user id is a compound primary key, as defined during creation process. Both together form a unique key. \n",
    "\n",
    "**What clustering keys am I using and why?**<br>\n",
    "Essentially, the clustering columns determine the on-disk sort order within each partition. In this cases, the first column is the partition key (item nb) and the second column is the clustering column (session id). This combination of the partition key and clustering column composes a composite/compound primary key. Furthermore, an other clustering column is added, Item in Session, to ensure the on-disk sort order within each partition <br>\n",
    "\n",
    "**Why did I choose this specific table structure?**<br>\n",
    "Basically, the creation of this table with the partionining of our data with its primary and clustering key is designed to serve the query.\n",
    "\n",
    "**How is this structure benefitting the query output?**<br>\n",
    "The structure of the primary key and clustering key allows to filter the table given any session id and user id. The result is sorted by item in session. \n"
   ]
  },
  {
   "cell_type": "code",
   "execution_count": 16,
   "metadata": {},
   "outputs": [
    {
     "name": "stdout",
     "output_type": "stream",
     "text": [
      "Down To The Bone Keep On Keepin' On Sylvie Cruz\n",
      "Three Drives Greece 2000 Sylvie Cruz\n",
      "Sebastien Tellier Kilometer Sylvie Cruz\n",
      "Lonnie Gordon Catch You Baby (Steve Pitron & Max Sanna Radio Edit) Sylvie Cruz\n"
     ]
    }
   ],
   "source": [
    "query = \"select artist, song, user_firstName, user_lastName from artist_info_by_session_and_user where sessionId = 182 and userID = 10\"\n",
    "try:\n",
    "    rows = session.execute(query)\n",
    "except Exception as e:\n",
    "    print(e)\n",
    "    \n",
    "for row in rows:\n",
    "    print (row.artist, row.song, row.user_firstname, row.user_lastname)"
   ]
  },
  {
   "cell_type": "code",
   "execution_count": 17,
   "metadata": {},
   "outputs": [
    {
     "name": "stdout",
     "output_type": "stream",
     "text": [
      "+---------------------+------------------------------------------------------+-------------+\n",
      "|        Artist       |                         Song                         |  User name  |\n",
      "+---------------------+------------------------------------------------------+-------------+\n",
      "|   Down To The Bone  |                    Keep On Keepin                    | Sylvie Cruz |\n",
      "| Three Drives Greece |                         2000                         | Sylvie Cruz |\n",
      "|    Lonnie Gordon    | Catch You Baby (Steve Pitron & Max Sanna Radio Edit) | Sylvie Cruz |\n",
      "+---------------------+------------------------------------------------------+-------------+\n"
     ]
    }
   ],
   "source": [
    "from prettytable import PrettyTable\n",
    "x = PrettyTable()\n",
    "\n",
    "x.field_names = [\"Artist\", \"Song\", \"User name\"]\n",
    "x.add_row([\"Down To The Bone\", \"Keep On Keepin\", \"Sylvie Cruz\"])\n",
    "x.add_row([\"Three Drives Greece\", \"2000\", \"Sylvie Cruz\"])\n",
    "x.add_row([\"Lonnie Gordon\", \"Catch You Baby (Steve Pitron & Max Sanna Radio Edit)\", \"Sylvie Cruz\"])\n",
    "\n",
    "\n",
    "print(x)"
   ]
  },
  {
   "cell_type": "markdown",
   "metadata": {},
   "source": [
    "# Third query"
   ]
  },
  {
   "cell_type": "code",
   "execution_count": null,
   "metadata": {},
   "outputs": [],
   "source": [
    "query = \"CREATE TABLE IF NOT EXISTS user_info_by_song\"\n",
    "query = query + \"(song text,\\\n",
    "                  userId int,\\\n",
    "                  user_firstName text,\\\n",
    "                  user_lastName text,\\\n",
    "                  PRIMARY KEY (song, userId))\"\n",
    "try:\n",
    "    session.execute(query)\n",
    "except Exception as e:\n",
    "    print(e)\n",
    "    \n",
    "\n",
    "file = 'event_datafile_new.csv'\n",
    "\n",
    "with open(file, encoding = 'utf8') as f:\n",
    "    csvreader = csv.reader(f)\n",
    "    next(csvreader)\n",
    "    for line in csvreader:\n",
    "        query = \"insert into user_info_by_song \\\n",
    "                  (song,\\\n",
    "                   userId,\\\n",
    "                   user_firstName,\\\n",
    "                   user_lastName\\\n",
    "                  )\"  \n",
    "        query = query + \" Values (%s, %s, %s, %s)\"\n",
    "        try:\n",
    "            session.execute(query, (line[9], int(line[10]), line[1], line[4], ))\n",
    "        except Exception as e:\n",
    "            print(e)"
   ]
  },
  {
   "cell_type": "markdown",
   "metadata": {},
   "source": [
    " **Task**:<br>\n",
    "Query every user name (first and last) in my music app history who listened to the song 'All Hands Against His Own<br>\n",
    "\n",
    "**Description**: <br>\n",
    "The following table shows all users listened to the song 'All Hands Against His Own<br>\n",
    "\n",
    "**Which columns will be primary keys and why?**<br>\n",
    "Song and user id is a compound primary key, as defined during creation process. Both together form a unique key. \n",
    "\n",
    "**What clustering keys am I using and why?**<br>\n",
    "Essentially, the clustering columns determine the on-disk sort order within each partition. In this case no specification is needed. <br>\n",
    "\n",
    "**Why did I choose this specific table structure?**<br>\n",
    "Basically, the creation of this table with the partionining of our data with its primary key is designed to serve the query.\n",
    "\n",
    "**How is this structure benefitting the query output?**<br>\n",
    "The structure of the primary key allows to filter the table given any song name and outputs every user who listened to this song. \n"
   ]
  },
  {
   "cell_type": "code",
   "execution_count": null,
   "metadata": {},
   "outputs": [],
   "source": [
    "query = \"select user_firstName, user_lastName from user_info_by_song where song ='All Hands Against His Own'\"\n",
    "\n",
    "try:\n",
    "    rows = session.execute(query)\n",
    "except Exception as e:\n",
    "    print(e)\n",
    "    \n",
    "for row in rows:\n",
    "    print (row.user_firstname, row.user_lastname)"
   ]
  },
  {
   "cell_type": "code",
   "execution_count": null,
   "metadata": {},
   "outputs": [],
   "source": [
    "from prettytable import PrettyTable\n",
    "x = PrettyTable()\n",
    "\n",
    "x.field_names = [\"User name\"]\n",
    "x.add_row([\"Jacqueline Lynch\"])\n",
    "x.add_row([\"Tegan Levine\"])\n",
    "x.add_row([\"Sara Johnson\"])\n",
    "\n",
    "\n",
    "print(x)"
   ]
  },
  {
   "cell_type": "markdown",
   "metadata": {},
   "source": [
    "### Drop the tables before closing out the sessions"
   ]
  },
  {
   "cell_type": "code",
   "execution_count": 22,
   "metadata": {},
   "outputs": [],
   "source": [
    "query = \"drop table song_info_by_session\"\n",
    "try:\n",
    "    rows = session.execute(query)\n",
    "except Exception as e:\n",
    "    print(e)\n",
    "\n",
    "query = \"drop table artist_info_by_session_and_user\"\n",
    "try:\n",
    "    rows = session.execute(query)\n",
    "except Exception as e:\n",
    "    print(e)\n",
    "\n",
    "query = \"drop table user_info_by_song\"\n",
    "try:\n",
    "    rows = session.execute(query)\n",
    "except Exception as e:\n",
    "    print(e)"
   ]
  },
  {
   "cell_type": "markdown",
   "metadata": {},
   "source": [
    "### Close the session and cluster connection¶"
   ]
  },
  {
   "cell_type": "code",
   "execution_count": null,
   "metadata": {},
   "outputs": [],
   "source": [
    "session.shutdown()\n",
    "cluster.shutdown()"
   ]
  },
  {
   "cell_type": "code",
   "execution_count": null,
   "metadata": {},
   "outputs": [],
   "source": []
  },
  {
   "cell_type": "code",
   "execution_count": null,
   "metadata": {},
   "outputs": [],
   "source": []
  }
 ],
 "metadata": {
  "kernelspec": {
   "display_name": "Python 3",
   "language": "python",
   "name": "python3"
  },
  "language_info": {
   "codemirror_mode": {
    "name": "ipython",
    "version": 3
   },
   "file_extension": ".py",
   "mimetype": "text/x-python",
   "name": "python",
   "nbconvert_exporter": "python",
   "pygments_lexer": "ipython3",
   "version": "3.6.3"
  }
 },
 "nbformat": 4,
 "nbformat_minor": 2
}
